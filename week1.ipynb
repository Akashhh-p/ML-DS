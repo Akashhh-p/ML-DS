{
  "nbformat": 4,
  "nbformat_minor": 0,
  "metadata": {
    "colab": {
      "provenance": [],
      "authorship_tag": "ABX9TyP6tZHrUFN74YX7ZNDS7SFz",
      "include_colab_link": true
    },
    "kernelspec": {
      "name": "python3",
      "display_name": "Python 3"
    },
    "language_info": {
      "name": "python"
    }
  },
  "cells": [
    {
      "cell_type": "markdown",
      "metadata": {
        "id": "view-in-github",
        "colab_type": "text"
      },
      "source": [
        "<a href=\"https://colab.research.google.com/github/Akashhh-p/ML-DS/blob/ML/week1.ipynb\" target=\"_parent\"><img src=\"https://colab.research.google.com/assets/colab-badge.svg\" alt=\"Open In Colab\"/></a>"
      ]
    },
    {
      "cell_type": "code",
      "execution_count": null,
      "metadata": {
        "colab": {
          "base_uri": "https://localhost:8080/"
        },
        "id": "LfJyJl-NVLN9",
        "outputId": "a07225e2-2af3-4f9b-97b6-ce942da15438"
      },
      "outputs": [
        {
          "output_type": "stream",
          "name": "stdout",
          "text": [
            "hello\n"
          ]
        }
      ],
      "source": [
        "print(\"hello\")"
      ]
    },
    {
      "cell_type": "code",
      "source": [
        "def fun():\n",
        "  print('Akash')"
      ],
      "metadata": {
        "id": "bm_VwlxEV1uc"
      },
      "execution_count": null,
      "outputs": []
    },
    {
      "cell_type": "code",
      "source": [
        "fun()"
      ],
      "metadata": {
        "colab": {
          "base_uri": "https://localhost:8080/"
        },
        "id": "N1X1F28yWfgJ",
        "outputId": "0dfb5713-5f3e-4687-e452-b54d63eec378"
      },
      "execution_count": null,
      "outputs": [
        {
          "output_type": "stream",
          "name": "stdout",
          "text": [
            "Akash\n"
          ]
        }
      ]
    },
    {
      "cell_type": "code",
      "source": [
        "def fun1():\n",
        "  for i in range(1,10):\n",
        "    print(\"hello\")"
      ],
      "metadata": {
        "id": "s9ndLOJyWoKM"
      },
      "execution_count": null,
      "outputs": []
    },
    {
      "cell_type": "code",
      "source": [
        "fun1()"
      ],
      "metadata": {
        "colab": {
          "base_uri": "https://localhost:8080/"
        },
        "id": "7TJaW4hSWzPB",
        "outputId": "dd7ea986-d5b8-42fb-82e1-db3737583661"
      },
      "execution_count": null,
      "outputs": [
        {
          "output_type": "stream",
          "name": "stdout",
          "text": [
            "hello\n",
            "hello\n",
            "hello\n",
            "hello\n",
            "hello\n",
            "hello\n",
            "hello\n",
            "hello\n",
            "hello\n"
          ]
        }
      ]
    },
    {
      "cell_type": "markdown",
      "source": [
        "types of functions :1. default = print(),len(),input()\n",
        "2. user defined ="
      ],
      "metadata": {
        "id": "dtWFpwJjXDkq"
      }
    },
    {
      "cell_type": "code",
      "source": [
        "#global value : example is your name that means everyone calls you with that and u responds\n",
        "#local value : example is your nick name that means only ur close frnds and family calls u with that"
      ],
      "metadata": {
        "id": "0CZQBUYJXWZk"
      },
      "execution_count": null,
      "outputs": []
    },
    {
      "cell_type": "code",
      "source": [
        "#local value and global value\n",
        "b=4    #global\n",
        "def func():\n",
        "  a=2    #local"
      ],
      "metadata": {
        "id": "eTVDGvS0YSBF"
      },
      "execution_count": null,
      "outputs": []
    },
    {
      "cell_type": "code",
      "source": [
        "print(b)"
      ],
      "metadata": {
        "colab": {
          "base_uri": "https://localhost:8080/"
        },
        "id": "pPahswlZYimD",
        "outputId": "5393969b-44e6-46b2-e660-18aeccf99f97"
      },
      "execution_count": null,
      "outputs": [
        {
          "output_type": "stream",
          "name": "stdout",
          "text": [
            "4\n"
          ]
        }
      ]
    },
    {
      "cell_type": "code",
      "source": [
        "print(a) #this is local value where it is accesible in the same piece of code"
      ],
      "metadata": {
        "colab": {
          "base_uri": "https://localhost:8080/",
          "height": 141
        },
        "id": "X7Y-ETQdYlNs",
        "outputId": "ed137c72-a3f7-4fdf-cccc-abfc3ca1abdf"
      },
      "execution_count": null,
      "outputs": [
        {
          "output_type": "error",
          "ename": "NameError",
          "evalue": "name 'a' is not defined",
          "traceback": [
            "\u001b[0;31m---------------------------------------------------------------------------\u001b[0m",
            "\u001b[0;31mNameError\u001b[0m                                 Traceback (most recent call last)",
            "\u001b[0;32m/tmp/ipython-input-16-1189138062.py\u001b[0m in \u001b[0;36m<cell line: 0>\u001b[0;34m()\u001b[0m\n\u001b[0;32m----> 1\u001b[0;31m \u001b[0mprint\u001b[0m\u001b[0;34m(\u001b[0m\u001b[0ma\u001b[0m\u001b[0;34m)\u001b[0m\u001b[0;34m\u001b[0m\u001b[0;34m\u001b[0m\u001b[0m\n\u001b[0m",
            "\u001b[0;31mNameError\u001b[0m: name 'a' is not defined"
          ]
        }
      ]
    },
    {
      "cell_type": "code",
      "source": [
        "def fun():\n",
        "  print('hello')\n",
        "fun()\n",
        "\n",
        "def fun():\n",
        "    print('hii')\n",
        "fun()"
      ],
      "metadata": {
        "colab": {
          "base_uri": "https://localhost:8080/"
        },
        "id": "kP5GFywFYsfr",
        "outputId": "73261f50-d528-4948-b9d6-db678e0e688b"
      },
      "execution_count": null,
      "outputs": [
        {
          "output_type": "stream",
          "name": "stdout",
          "text": [
            "hello\n",
            "hii\n"
          ]
        }
      ]
    },
    {
      "cell_type": "code",
      "source": [
        "fun()"
      ],
      "metadata": {
        "colab": {
          "base_uri": "https://localhost:8080/"
        },
        "id": "kdmfoYkEZpEc",
        "outputId": "cd9d168a-4431-43d4-9477-e60f80cd5921"
      },
      "execution_count": null,
      "outputs": [
        {
          "output_type": "stream",
          "name": "stdout",
          "text": [
            "hii\n"
          ]
        }
      ]
    },
    {
      "cell_type": "code",
      "source": [
        "#parameters in functions\n",
        "def fun(name,age):\n",
        "  print(f\"Hii {name} and your age is {age}\")  #print (f\"\") is used to print a string like hii and your age is"
      ],
      "metadata": {
        "id": "gD2rh0zEZrr4"
      },
      "execution_count": null,
      "outputs": []
    },
    {
      "cell_type": "code",
      "source": [
        "fun(\"Akash\",20)"
      ],
      "metadata": {
        "colab": {
          "base_uri": "https://localhost:8080/"
        },
        "id": "LXVghEj7aBPp",
        "outputId": "89b5966d-0e9d-4278-fb82-1b5846060d3c"
      },
      "execution_count": null,
      "outputs": [
        {
          "output_type": "stream",
          "name": "stdout",
          "text": [
            "Hii Akash and your age is 20\n"
          ]
        }
      ]
    },
    {
      "cell_type": "markdown",
      "source": [],
      "metadata": {
        "id": "icaKJqg5bwng"
      }
    },
    {
      "cell_type": "code",
      "source": [
        "def add(a,b):\n",
        "  return a*b"
      ],
      "metadata": {
        "id": "GqscTX1ObN5d"
      },
      "execution_count": null,
      "outputs": []
    },
    {
      "cell_type": "code",
      "source": [
        "add(90,90)"
      ],
      "metadata": {
        "colab": {
          "base_uri": "https://localhost:8080/"
        },
        "id": "2LUsVMtGbYP1",
        "outputId": "10920246-41b6-4918-a1b6-c3321d7adfeb"
      },
      "execution_count": null,
      "outputs": [
        {
          "output_type": "execute_result",
          "data": {
            "text/plain": [
              "8100"
            ]
          },
          "metadata": {},
          "execution_count": 36
        }
      ]
    },
    {
      "cell_type": "code",
      "source": [
        "def operation(a,b,c):\n",
        "  return a+b+c,a-b-c,a*b*c,a/b/c"
      ],
      "metadata": {
        "id": "qRdYwusLbzVa"
      },
      "execution_count": null,
      "outputs": []
    },
    {
      "cell_type": "code",
      "source": [
        "operation(500,450,400)"
      ],
      "metadata": {
        "colab": {
          "base_uri": "https://localhost:8080/"
        },
        "id": "aitPP6YPcEA-",
        "outputId": "636ae707-07e4-431f-bbf2-e5f5dd7b1cf8"
      },
      "execution_count": null,
      "outputs": [
        {
          "output_type": "execute_result",
          "data": {
            "text/plain": [
              "(1350, -350, 90000000, 0.002777777777777778)"
            ]
          },
          "metadata": {},
          "execution_count": 39
        }
      ]
    },
    {
      "cell_type": "code",
      "source": [
        "def leap_year(year):\n",
        "  year = input(int(\"enter year\")) # leap yr condition is year%4==0 and year%100!=0 or year%400 == 0\n",
        "  if ( year%400==0):\n",
        "    print(f\"{year} is a leap year\")\n",
        "  else :\n",
        "    print(f\"{year} is not a leap year\")\n",
        "\n",
        "  leap_year(2006)"
      ],
      "metadata": {
        "id": "RxnSGU5jcKGy"
      },
      "execution_count": null,
      "outputs": []
    }
  ]
}